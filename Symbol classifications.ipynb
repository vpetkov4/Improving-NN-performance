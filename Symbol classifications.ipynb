{
 "cells": [
  {
   "cell_type": "code",
   "execution_count": 39,
   "metadata": {},
   "outputs": [],
   "source": [
    "import tensorflow as tf\n",
    "from tensorflow.keras.models import Sequential\n",
    "from tensorflow.keras.layers import Dense,Activation,Flatten, Conv2D, MaxPooling2D\n",
    "#from tensorflow.keras.callbacks import  TensorBoard\n",
    "import sklearn\n",
    "from sklearn.model_selection import  train_test_split\n",
    "from sklearn.metrics import confusion_matrix\n",
    "from sklearn.metrics import classification_report\n",
    "import Augmentor\n",
    "\n",
    "import numpy as np\n",
    "import matplotlib.pyplot as plt\n",
    "import os\n",
    "import cv2\n",
    "import random\n",
    "import pickle\n",
    "import time\n",
    "\n",
    "\n"
   ]
  },
  {
   "cell_type": "code",
   "execution_count": 7,
   "metadata": {},
   "outputs": [],
   "source": [
    "DATADIR=\"datasets\\symbols data\\original_data\"\n",
    "\n",
    "\n",
    "#We work with a pool of 82 different classes\n",
    "CATEGORIES = [\"-\",\"!\",\"(\",\")\",\",\",\"+\", \"[\",\"]\",\n",
    "              \"{\",\"}\",\"0\",\"1\", \"2\",\"3\",\"4\",\"5\",\"6\",\"7\",\n",
    "              \"8\",\"9\",\"b\",\"d\",\"e\",\"f\",\"i\",\"j\",\"k\",\n",
    "              \"l\",\"o\",\"p\",\"q\",\"R\",\"T\",\"u\",\"v\",\"w\",\"y\",\n",
    "              \"z\",\"A\",\"C\",\"G\",\"H\",\"M\",\"N\",\"S\",\"X\",\"alpha\",\n",
    "              \"beta\",\"gamma\",\"lambda\",\"mu\",\"phi\",\"theta\",\"pi\",\"sigma\",\"Delta\",\n",
    "              \"div\",\"forall\",\"geq\",\"leq\",\"infty\", \"forward_slash\", \"=\",\n",
    "                \"int\",\"sqrt\",\"ascii_124\",\"cos\",\"sin\",\"lt\",\"gt\",\"lim\",\n",
    "                \"rightarrow\",\"times\",\"pm\",\"sum\",\"prime\",\"log\",\"tan\",\n",
    "                \"neq\",\"ldots\",\"in\",\"exists\"]"
   ]
  },
  {
   "cell_type": "code",
   "execution_count": 8,
   "metadata": {},
   "outputs": [],
   "source": [
    "IMG_SIZE=45\n",
    "num_labels=len(CATEGORIES)"
   ]
  },
  {
   "cell_type": "code",
   "execution_count": 11,
   "metadata": {},
   "outputs": [],
   "source": [
    "\n",
    "#Find the directories with particularly few original images\n",
    "num_files=[]\n",
    "for category in CATEGORIES:\n",
    "    \n",
    "    path=os.path.join(DATADIR,category)\n",
    "    nfile = len([f for f in os.listdir(path) if os.path.isfile(os.path.join(path, f))])\n",
    "    num_files.append((category,nfile))"
   ]
  },
  {
   "cell_type": "code",
   "execution_count": 80,
   "metadata": {},
   "outputs": [],
   "source": [
    "#Creat the training data from the original raw data\n",
    "training_data=[]\n",
    "def create_training_data():\n",
    "    for category in CATEGORIES:\n",
    "        path = os.path.join(DATADIR,category)#paths to each symbol directory\n",
    "        class_num=CATEGORIES.index(category)\n",
    "        for item in os.listdir(path):\n",
    "            try:\n",
    "                image_path=os.path.join(path,item)\n",
    "                if os.path.isfile(image_path):\n",
    "                    img_array=cv2.imread(image_path,cv2.IMREAD_GRAYSCALE)\n",
    "                    training_data.append([img_array,class_num])\n",
    "\n",
    "            except Exception as e:\n",
    "                pass#if there are broken images\n",
    "        \n",
    "create_training_data()"
   ]
  },
  {
   "cell_type": "code",
   "execution_count": 13,
   "metadata": {},
   "outputs": [],
   "source": [
    "X=[]\n",
    "y=[]\n",
    "for features, label in training_data:\n",
    "    X.append(features)\n",
    "    y.append(label)\n",
    "    \n",
    "X=np.array(X).reshape(-1,IMG_SIZE,IMG_SIZE, 1)#need to conver fatures into np array\n",
    "y=np.array(y) \n",
    "\n",
    "#normalize features data\n",
    "#X=tf.keras.utils.normalize(X,axis=1)\n",
    "X=X/255"
   ]
  },
  {
   "cell_type": "code",
   "execution_count": 14,
   "metadata": {},
   "outputs": [],
   "source": [
    "#Defining the model for a deep learning\n",
    "#Two Convolutional neural network layers with 64 nodes\n",
    "\n",
    "\n",
    "model=Sequential()\n",
    "model.add(Conv2D(64,(3,3),input_shape=X.shape[1:]))\n",
    "model.add(Activation(\"relu\"))\n",
    "model.add(MaxPooling2D(pool_size=(2,2)))\n",
    "          \n",
    "model.add(Conv2D(64,(3,3)))\n",
    "model.add(Activation(\"relu\"))\n",
    "model.add(MaxPooling2D(pool_size=(2,2)))\n",
    "\n",
    "model.add(Flatten())\n",
    "model.add(Dense(num_labels))\n",
    "model.add(Activation(\"softmax\"))\n",
    "          \n",
    "model.compile(optimizer='adam',\n",
    "              loss='sparse_categorical_crossentropy',\n",
    "              metrics=['accuracy']\n",
    "              )"
   ]
  },
  {
   "cell_type": "code",
   "execution_count": 15,
   "metadata": {},
   "outputs": [],
   "source": [
    "#Spliting the set into train and test set using scikit learn\n",
    "X_train, X_test, y_train, y_test = train_test_split(X,y,test_size=0.1, random_state=1, stratify=y)"
   ]
  },
  {
   "cell_type": "code",
   "execution_count": 16,
   "metadata": {},
   "outputs": [
    {
     "name": "stdout",
     "output_type": "stream",
     "text": [
      "Epoch 1/3\n",
      "2707/2707 [==============================] - 1305s 482ms/step - loss: 0.5558 - accuracy: 0.8523 - val_loss: 0.2934 - val_accuracy: 0.9148\n",
      "Epoch 2/3\n",
      "2707/2707 [==============================] - 1241s 458ms/step - loss: 0.2293 - accuracy: 0.9334 - val_loss: 0.1995 - val_accuracy: 0.9403\n",
      "Epoch 3/3\n",
      "2707/2707 [==============================] - 1240s 458ms/step - loss: 0.1475 - accuracy: 0.9556 - val_loss: 0.1446 - val_accuracy: 0.9578\n"
     ]
    }
   ],
   "source": [
    "#Running the model over the original data, which contains many duplicates\n",
    "history=model.fit(X_train,y_train,batch_size=100,epochs=3, validation_split=0.2)"
   ]
  },
  {
   "cell_type": "code",
   "execution_count": 23,
   "metadata": {},
   "outputs": [
    {
     "data": {
      "image/png": "[encoded data removed]",
      "text/plain": [
       "<Figure size 432x288 with 1 Axes>"
      ]
     },
     "metadata": {
      "needs_background": "light"
     },
     "output_type": "display_data"
    },
    {
     "data": {
      "image/png": "[encoded data removed]",
      "text/plain": [
       "<Figure size 432x288 with 1 Axes>"
      ]
     },
     "metadata": {
      "needs_background": "light"
     },
     "output_type": "display_data"
    }
   ],
   "source": [
    "#Plot the train/validation loss and accuracy\n",
    "plt.title('Loss')\n",
    "plt.plot(history.history['loss'], label='train')\n",
    "plt.plot(history.history['val_loss'], label='validation')\n",
    "plt.legend()\n",
    "plt.show()\n",
    "\n",
    "plt.title('Accuracy')\n",
    "plt.plot(history.history['accuracy'], label='train')\n",
    "plt.plot(history.history['val_accuracy'], label='validation')\n",
    "plt.legend()\n",
    "plt.show()\n"
   ]
  },
  {
   "cell_type": "code",
   "execution_count": 17,
   "metadata": {},
   "outputs": [
    {
     "name": "stdout",
     "output_type": "stream",
     "text": [
      "WARNING:tensorflow:From C:\\Users\\Vladislav\\anaconda3\\envs\\tf\\lib\\site-packages\\tensorflow\\python\\training\\tracking\\tracking.py:111: Model.state_updates (from tensorflow.python.keras.engine.training) is deprecated and will be removed in a future version.\n",
      "Instructions for updating:\n",
      "This property should not be used in TensorFlow 2.0, as updates are applied automatically.\n",
      "WARNING:tensorflow:From C:\\Users\\Vladislav\\anaconda3\\envs\\tf\\lib\\site-packages\\tensorflow\\python\\training\\tracking\\tracking.py:111: Layer.updates (from tensorflow.python.keras.engine.base_layer) is deprecated and will be removed in a future version.\n",
      "Instructions for updating:\n",
      "This property should not be used in TensorFlow 2.0, as updates are applied automatically.\n",
      "INFO:tensorflow:Assets written to: model_trained_on_original_data\\assets\n"
     ]
    }
   ],
   "source": [
    "model.save('model_trained_on_original_data')"
   ]
  },
  {
   "cell_type": "code",
   "execution_count": 26,
   "metadata": {},
   "outputs": [],
   "source": [
    "#Removing the image duplicates by hashing all images and storing them into a dictionary\n",
    "def duplicate_hash(image_array,hashsize=IMG_SIZE):\n",
    "    #resize, so that the width is 1-pixel larger\n",
    "    image_array=cv2.resize(image_array, (hashsize + 1, hashsize))\n",
    "    # compute the horizontal gradient between adjacent\n",
    "    diff = image_array[:, 1:] > image_array[:, :-1]\n",
    "    #the hash value\n",
    "    hashed= sum([2 ** i for (i, v) in enumerate(diff.flatten()) if v])\n",
    "    return hashed"
   ]
  },
  {
   "cell_type": "code",
   "execution_count": 28,
   "metadata": {},
   "outputs": [
    {
     "name": "stdout",
     "output_type": "stream",
     "text": [
      "375974\n"
     ]
    }
   ],
   "source": [
    "#The number of images before duplicates are removed\n",
    "print(len(training_data))"
   ]
  },
  {
   "cell_type": "code",
   "execution_count": 27,
   "metadata": {},
   "outputs": [],
   "source": [
    "#run over the different folders with images\n",
    "\n",
    "for category in CATEGORIES:\n",
    "    hashes={}\n",
    "    path = os.path.join(DATADIR,category)\n",
    "    for img in os.listdir(path):\n",
    "        #open the image into grayscale \n",
    "        image_path=os.path.join(path,img)\n",
    "        img_array=cv2.imread(image_path,cv2.IMREAD_GRAYSCALE)\n",
    "        h=duplicate_hash(img_array)\n",
    "        #update the hash dictionary\n",
    "        p = hashes.get(h, [])\n",
    "        p.append(image_path)\n",
    "        hashes[h] = p\n",
    "\n",
    "    #Delete the repeated images:\n",
    "    for (h, hashedPaths) in hashes.items():\n",
    "        # check to see if there is more than one image with the same hash\n",
    "        if len(hashedPaths) > 1:\n",
    "                # loop over all image paths with the same hash *except*\n",
    "                # for the first image in the list (since we want to keep\n",
    "                # one, and only one, of the duplicate images)\n",
    "                for p in hashedPaths[1:]:\n",
    "                    os.remove(p)"
   ]
  },
  {
   "cell_type": "code",
   "execution_count": 32,
   "metadata": {},
   "outputs": [
    {
     "name": "stdout",
     "output_type": "stream",
     "text": [
      "83493\n"
     ]
    }
   ],
   "source": [
    "#Updating the data after duplicates have been removed\n",
    "training_data=[]\n",
    "create_training_data()\n",
    "print(len(training_data))"
   ]
  },
  {
   "cell_type": "code",
   "execution_count": 33,
   "metadata": {},
   "outputs": [],
   "source": [
    "X=[]\n",
    "y=[]\n",
    "for features, label in training_data:\n",
    "    X.append(features)\n",
    "    y.append(label)\n",
    "    \n",
    "X=np.array(X).reshape(-1,IMG_SIZE,IMG_SIZE, 1)#need to conver fatures into np array\n",
    "y=np.array(y) \n",
    "\n",
    "#normalize features data\n",
    "#X=tf.keras.utils.normalize(X,axis=1)\n",
    "X=X/255"
   ]
  },
  {
   "cell_type": "code",
   "execution_count": 34,
   "metadata": {},
   "outputs": [],
   "source": [
    "#Spliting the set into train and test set using scikit learn\n",
    "X_train, X_test, y_train, y_test = train_test_split(X,y,test_size=0.1, random_state=1, stratify=y)"
   ]
  },
  {
   "cell_type": "code",
   "execution_count": 36,
   "metadata": {},
   "outputs": [
    {
     "name": "stdout",
     "output_type": "stream",
     "text": [
      "Epoch 1/3\n",
      "602/602 [==============================] - 356s 591ms/step - loss: 0.1485 - accuracy: 0.9556 - val_loss: 0.1477 - val_accuracy: 0.9539\n",
      "Epoch 2/3\n",
      "602/602 [==============================] - 349s 579ms/step - loss: 0.1125 - accuracy: 0.9656 - val_loss: 0.1702 - val_accuracy: 0.9441\n",
      "Epoch 3/3\n",
      "602/602 [==============================] - 350s 582ms/step - loss: 0.0951 - accuracy: 0.9698 - val_loss: 0.1837 - val_accuracy: 0.9424\n"
     ]
    }
   ],
   "source": [
    "#Running the neural network model over the smaller dataset\n",
    "history2=model.fit(X_train,y_train,batch_size=100,epochs=3, validation_split=0.2)"
   ]
  },
  {
   "cell_type": "code",
   "execution_count": 38,
   "metadata": {},
   "outputs": [
    {
     "data": {
      "image/png": "[encoded data removed]",
      "text/plain": [
       "<Figure size 432x288 with 1 Axes>"
      ]
     },
     "metadata": {
      "needs_background": "light"
     },
     "output_type": "display_data"
    },
    {
     "data": {
      "image/png": "[encoded data removed]",
      "text/plain": [
       "<Figure size 432x288 with 1 Axes>"
      ]
     },
     "metadata": {
      "needs_background": "light"
     },
     "output_type": "display_data"
    }
   ],
   "source": [
    "#Plot the train/validation loss and accuracy\n",
    "plt.title('Loss')\n",
    "plt.plot(history2.history['loss'], label='train')\n",
    "plt.plot(history2.history['val_loss'], label='validation')\n",
    "plt.legend()\n",
    "plt.show()\n",
    "\n",
    "plt.title('Accuracy')\n",
    "plt.plot(history2.history['accuracy'], label='train')\n",
    "plt.plot(history2.history['val_accuracy'], label='validation')\n",
    "plt.legend()\n",
    "plt.show()"
   ]
  },
  {
   "cell_type": "code",
   "execution_count": 42,
   "metadata": {},
   "outputs": [
    {
     "name": "stdout",
     "output_type": "stream",
     "text": [
      "              precision    recall  f1-score   support\n",
      "\n",
      "           0       0.99      0.99      0.99       602\n",
      "           1       1.00      1.00      1.00        22\n",
      "           2       0.93      0.96      0.94       399\n",
      "           3       0.98      0.97      0.97       398\n",
      "           4       0.74      0.48      0.59        60\n",
      "           5       0.96      0.99      0.98       544\n",
      "           6       1.00      0.90      0.95        20\n",
      "           7       0.79      0.95      0.86        20\n",
      "           8       1.00      1.00      1.00         7\n",
      "           9       1.00      1.00      1.00         7\n",
      "          10       0.90      0.96      0.93       181\n",
      "          11       0.89      0.91      0.90       633\n",
      "          12       0.95      0.97      0.96       621\n",
      "          13       1.00      0.97      0.98       247\n",
      "          14       0.97      0.98      0.97       164\n",
      "          15       0.97      0.92      0.94       101\n",
      "          16       1.00      0.88      0.93        81\n",
      "          17       0.94      0.91      0.93        75\n",
      "          18       0.97      0.99      0.98        73\n",
      "          19       0.82      0.96      0.88        74\n",
      "          20       0.93      0.98      0.95       183\n",
      "          21       0.99      0.98      0.99       106\n",
      "          22       0.98      0.87      0.92        62\n",
      "          23       0.96      0.87      0.91        85\n",
      "          24       0.97      0.95      0.96       103\n",
      "          25       1.00      0.97      0.98        30\n",
      "          26       0.94      0.94      0.94        67\n",
      "          27       0.87      0.52      0.65        25\n",
      "          28       0.67      0.36      0.47        11\n",
      "          29       0.97      1.00      0.99        68\n",
      "          30       0.79      0.74      0.77        31\n",
      "          31       0.95      0.81      0.87        67\n",
      "          32       0.88      0.85      0.87        80\n",
      "          33       0.97      0.97      0.97        32\n",
      "          34       0.97      1.00      0.99        39\n",
      "          35       1.00      0.93      0.96        14\n",
      "          36       0.96      0.95      0.96       190\n",
      "          37       0.87      0.89      0.88       108\n",
      "          38       0.95      0.97      0.96       272\n",
      "          39       0.92      0.92      0.92       119\n",
      "          40       0.85      0.56      0.68        41\n",
      "          41       0.94      0.81      0.87        37\n",
      "          42       0.98      0.84      0.91        58\n",
      "          43       0.89      0.96      0.92       240\n",
      "          44       0.84      0.86      0.85        36\n",
      "          45       0.96      0.90      0.93       533\n",
      "          46       0.95      1.00      0.97        38\n",
      "          47       1.00      1.00      1.00        30\n",
      "          48       1.00      0.67      0.80         9\n",
      "          49       1.00      1.00      1.00         3\n",
      "          50       1.00      1.00      1.00         5\n",
      "          51       1.00      1.00      1.00         8\n",
      "          52       0.98      0.98      0.98        54\n",
      "          53       1.00      1.00      1.00        50\n",
      "          54       1.00      1.00      1.00         5\n",
      "          55       1.00      1.00      1.00         3\n",
      "          56       0.94      1.00      0.97        16\n",
      "          57       1.00      1.00      1.00         1\n",
      "          58       1.00      1.00      1.00        15\n",
      "          59       1.00      1.00      1.00        22\n",
      "          60       0.95      1.00      0.97        39\n",
      "          61       0.70      0.80      0.74        20\n",
      "          62       0.99      0.98      0.99       363\n",
      "          63       0.87      0.98      0.92        61\n",
      "          64       0.98      0.98      0.98       165\n",
      "          65       0.36      0.34      0.35        35\n",
      "          66       1.00      1.00      1.00        57\n",
      "          67       1.00      0.99      0.99        78\n",
      "          68       1.00      1.00      1.00        11\n",
      "          69       1.00      1.00      1.00         6\n",
      "          70       0.97      1.00      0.98        29\n",
      "          71       1.00      1.00      1.00        30\n",
      "          72       0.54      0.82      0.65        60\n",
      "          73       1.00      1.00      1.00        15\n",
      "          74       1.00      1.00      1.00        64\n",
      "          75       0.33      0.12      0.18         8\n",
      "          76       1.00      1.00      1.00        30\n",
      "          77       1.00      1.00      1.00        28\n",
      "          78       1.00      0.91      0.95        11\n",
      "          79       1.00      1.00      1.00        14\n",
      "          80       1.00      1.00      1.00         1\n",
      "\n",
      "    accuracy                           0.94      8350\n",
      "   macro avg       0.93      0.91      0.92      8350\n",
      "weighted avg       0.94      0.94      0.94      8350\n",
      "\n"
     ]
    }
   ],
   "source": [
    "#The predictions are varying greately, because the data is very skewed.\n",
    "#Some classes have 6000 images, while others have less than ten.\n",
    "#We test the performance over the test set  \n",
    "\n",
    "predictions=model.predict(X_test)\n",
    "predictions=np.argmax(predictions, axis = 1)\n",
    "#The confusion matrix\n",
    "C_matrix=confusion_matrix(y_test,predictions)\n",
    "\n",
    "report=classification_report(y_test, predictions)\n",
    "print(report)\n"
   ]
  },
  {
   "cell_type": "markdown",
   "metadata": {},
   "source": [
    "While the average F1 score is high it fall as low as 0.15 for some categories."
   ]
  },
  {
   "cell_type": "code",
   "execution_count": 48,
   "metadata": {},
   "outputs": [],
   "source": [
    "#Finding the categories with relatively few samples\n",
    "num_files=[]\n",
    "for category in CATEGORIES:\n",
    "    path=os.path.join(DATADIR,category)\n",
    "    nfile = len([f for f in os.listdir(path) if os.path.isfile(os.path.join(path, f))])\n",
    "    num_files.append((category,nfile))\n",
    "    \n",
    "#Custom bound for what makes a category small\n",
    "lower_bound=2000\n",
    "sparse_categories=[]\n",
    "for category in num_files:\n",
    "    if category[1]<lower_bound:\n",
    "        sparse_categories.append(category[0])\n",
    "    \n"
   ]
  },
  {
   "cell_type": "code",
   "execution_count": 54,
   "metadata": {},
   "outputs": [],
   "source": [
    "#Defining our data augmenting function. We use the Augmentor library Pipeline class\n",
    "\n",
    "def image_generator(directory,new_samples=100, folder=\"\",angle=10):\n",
    "    #path to the subfolder if necessary\n",
    "    path = os.path.join(DATADIR,folder)\n",
    "    #start the augmentor pipeline\n",
    "    image_factory=Augmentor.Pipeline(path)\n",
    "    #add random rotation of max angle 10\n",
    "    #with probability 0.7\n",
    "    image_factory.rotate(probability=0.7, max_left_rotation=angle, max_right_rotation=angle)\n",
    "    #add random elastic distortion\n",
    "    #with probability 0.7\n",
    "    image_factory.random_distortion(probability=0.5,grid_width=8,grid_height=8,magnitude=2)\n",
    "    image_factory.random_contrast(probability=0.4, min_factor=0.6, max_factor=1.0)\n",
    "    image_factory.sample(new_samples)\n",
    "    \n",
    "    return\n",
    "\n",
    "\n"
   ]
  },
  {
   "cell_type": "code",
   "execution_count": null,
   "metadata": {},
   "outputs": [],
   "source": [
    "#Using the Augmentor Pipeline class to artificially expand the dataset only for the sparse categories\n",
    "#To distinguish the newly generated images, we save them in a new folder 'output', which is the default \n",
    "#directory for the Pipeline class.\n",
    "new_samples=2000\n",
    "\n",
    "for category in sparse_categories[4:]:\n",
    "    image_generator(DATADIR,new_samples=new_samples,folder=category, angle=10)\n"
   ]
  },
  {
   "cell_type": "code",
   "execution_count": 90,
   "metadata": {},
   "outputs": [],
   "source": [
    "def create_augtraining_data(categories=sparse_categories):\n",
    "    for category in categories[4:]:\n",
    "        path = os.path.join(DATADIR,category)#paths to each symbol dir\n",
    "        path = os.path.join(path,'output')\n",
    "        class_num=CATEGORIES.index(category)\n",
    "        for img in os.listdir(path):\n",
    "            try:\n",
    "                img_array=cv2.imread(os.path.join(path,img),cv2.IMREAD_GRAYSCALE)\n",
    "                training_data.append([img_array,class_num])\n",
    "                \n",
    "            except Exception as e:\n",
    "                pass#if there are broken images\n",
    "create_augtraining_data(categories=sparse_categories)"
   ]
  },
  {
   "cell_type": "code",
   "execution_count": 91,
   "metadata": {},
   "outputs": [
    {
     "data": {
      "text/plain": [
       "225493"
      ]
     },
     "execution_count": 91,
     "metadata": {},
     "output_type": "execute_result"
    }
   ],
   "source": [
    "#sparse_categories\n",
    "\n",
    "len(training_data)"
   ]
  },
  {
   "cell_type": "code",
   "execution_count": 92,
   "metadata": {},
   "outputs": [],
   "source": [
    "X=[]\n",
    "y=[]\n",
    "for features, label in training_data:\n",
    "    X.append(features)\n",
    "    y.append(label)\n",
    "    \n",
    "X=np.array(X).reshape(-1,IMG_SIZE,IMG_SIZE, 1)#need to conver fatures into np array\n",
    "y=np.array(y) \n",
    "\n",
    "#normalize features data\n",
    "#X=tf.keras.utils.normalize(X,axis=1)\n",
    "X=X/255"
   ]
  },
  {
   "cell_type": "code",
   "execution_count": null,
   "metadata": {},
   "outputs": [],
   "source": []
  },
  {
   "cell_type": "code",
   "execution_count": null,
   "metadata": {},
   "outputs": [],
   "source": []
  },
  {
   "cell_type": "code",
   "execution_count": null,
   "metadata": {},
   "outputs": [],
   "source": []
  }
 ],
 "metadata": {
  "kernelspec": {
   "display_name": "Python 3",
   "language": "python",
   "name": "python3"
  },
  "language_info": {
   "codemirror_mode": {
    "name": "ipython",
    "version": 3
   },
   "file_extension": ".py",
   "mimetype": "text/x-python",
   "name": "python",
   "nbconvert_exporter": "python",
   "pygments_lexer": "ipython3",
   "version": "3.8.5"
  }
 },
 "nbformat": 4,
 "nbformat_minor": 4
}
